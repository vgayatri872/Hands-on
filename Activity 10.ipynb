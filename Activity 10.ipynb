{
 "cells": [
  {
   "cell_type": "code",
   "execution_count": 1,
   "id": "71095a6d",
   "metadata": {},
   "outputs": [
    {
     "name": "stdout",
     "output_type": "stream",
     "text": [
      "INDIA time: 12:51:33\n"
     ]
    }
   ],
   "source": [
    "from datetime import *\n",
    "import pytz\n",
    "  \n",
    "  \n",
    "tz_INDIA = pytz.timezone('Asia/Kolkata') \n",
    "datetime_INDIA = datetime.now(tz_INDIA)\n",
    "print(\"INDIA time:\", datetime_INDIA.strftime(\"%H:%M:%S\"))"
   ]
  },
  {
   "cell_type": "code",
   "execution_count": 2,
   "id": "36d18b1d",
   "metadata": {},
   "outputs": [
    {
     "name": "stdout",
     "output_type": "stream",
     "text": [
      "Time now at greenwich meridian is : 2022-05-26 13:48:45.788778\n"
     ]
    }
   ],
   "source": [
    "import datetime \n",
    "     \n",
    "current_time = datetime.datetime.now() \n",
    "    \n",
    "print (\"Time now at greenwich meridian is : \"\n",
    "                                    , end = \"\") \n",
    "print (current_time) "
   ]
  },
  {
   "cell_type": "code",
   "execution_count": 3,
   "id": "e874cc25",
   "metadata": {},
   "outputs": [
    {
     "name": "stdout",
     "output_type": "stream",
     "text": [
      "Yesterday =  25-05-2022\n",
      "Today =  26-05-2022\n",
      "Tomorrow =  27-05-2022\n"
     ]
    }
   ],
   "source": [
    "from datetime import datetime, timedelta\n",
    "  \n",
    "\n",
    "presentday = datetime.now() \n",
    "\n",
    "yesterday = presentday - timedelta(1)\n",
    "  \n",
    "\n",
    "tomorrow = presentday + timedelta(1)\n",
    "  \n",
    "print(\"Yesterday = \", yesterday.strftime('%d-%m-%Y'))\n",
    "print(\"Today = \", presentday.strftime('%d-%m-%Y'))\n",
    "print(\"Tomorrow = \", tomorrow.strftime('%d-%m-%Y'))"
   ]
  },
  {
   "cell_type": "code",
   "execution_count": 4,
   "id": "d696c07d",
   "metadata": {},
   "outputs": [
    {
     "name": "stdout",
     "output_type": "stream",
     "text": [
      "20:05:45\n"
     ]
    }
   ],
   "source": [
    "def convert24(str1):\n",
    "      \n",
    "    if str1[-2:] == \"AM\" and str1[:2] == \"12\":\n",
    "        return \"00\" + str1[2:-2]\n",
    "          \n",
    "    elif str1[-2:] == \"AM\":\n",
    "        return str1[:-2]\n",
    "        \n",
    "    elif str1[-2:] == \"PM\" and str1[:2] == \"12\":\n",
    "        return str1[:-2]\n",
    "          \n",
    "    else:\n",
    "        \n",
    "        return str(int(str1[:2]) + 12) + str1[2:8]\n",
    "  \n",
    "print(convert24(\"08:05:45 PM\"))"
   ]
  },
  {
   "cell_type": "code",
   "execution_count": 5,
   "id": "cce1c1f4",
   "metadata": {},
   "outputs": [
    {
     "name": "stdout",
     "output_type": "stream",
     "text": [
      "2 : 25\n",
      "3 : 31\n",
      "Both are same times\n"
     ]
    }
   ],
   "source": [
    "def difference(h1, m1, h2, m2):\n",
    "    \n",
    "    t1 = h1 * 60 + m1\n",
    "      \n",
    "    t2 = h2 * 60 + m2\n",
    "      \n",
    "    if (t1 == t2): \n",
    "        print(\"Both are same times\")\n",
    "        return \n",
    "    else:\n",
    "          \n",
    "        diff = t2-t1\n",
    "          \n",
    "    h = (int(diff / 60)) % 24\n",
    "      \n",
    "    m = diff % 60\n",
    "  \n",
    "    print(h, \":\", m)\n",
    "  \n",
    "if __name__ == \"__main__\":\n",
    "      \n",
    "    difference(7, 20, 9, 45)\n",
    "    difference(15, 23, 18, 54)\n",
    "    difference(16, 20, 16, 20)"
   ]
  }
 ],
 "metadata": {
  "kernelspec": {
   "display_name": "Python 3 (ipykernel)",
   "language": "python",
   "name": "python3"
  },
  "language_info": {
   "codemirror_mode": {
    "name": "ipython",
    "version": 3
   },
   "file_extension": ".py",
   "mimetype": "text/x-python",
   "name": "python",
   "nbconvert_exporter": "python",
   "pygments_lexer": "ipython3",
   "version": "3.9.12"
  }
 },
 "nbformat": 4,
 "nbformat_minor": 5
}
