{
 "cells": [
  {
   "cell_type": "code",
   "execution_count": 1,
   "id": "4424d70f",
   "metadata": {},
   "outputs": [
    {
     "name": "stdout",
     "output_type": "stream",
     "text": [
      "Size of Tuple1: 72bytes\n",
      "Size of Tuple2: 72bytes\n",
      "Size of Tuple3: 56bytes\n"
     ]
    }
   ],
   "source": [
    "Tuple1 = (\"A\", 1, \"B\", 2, \"C\", 3)\n",
    "Tuple2 = (\"Geek1\", \"Raju\", \"Geek2\", \"Nikhil\", \"Geek3\", \"Deepanshu\")\n",
    "Tuple3 = ((1, \"Lion\"), ( 2, \"Tiger\"), (3, \"Fox\"), (4, \"Wolf\"))\n",
    "  \n",
    "print(\"Size of Tuple1: \" + str(Tuple1.__sizeof__()) + \"bytes\")\n",
    "print(\"Size of Tuple2: \" + str(Tuple2.__sizeof__()) + \"bytes\")\n",
    "print(\"Size of Tuple3: \" + str(Tuple3.__sizeof__()) + \"bytes\")"
   ]
  },
  {
   "cell_type": "code",
   "execution_count": 2,
   "id": "5d0f98d3",
   "metadata": {},
   "outputs": [
    {
     "name": "stdout",
     "output_type": "stream",
     "text": [
      "The original tuple is :  (5, 20, 3, 7, 6, 8)\n",
      "The extracted values :  (3, 5, 8, 20)\n"
     ]
    }
   ],
   "source": [
    "test_tup = (5, 20, 3, 7, 6, 8)\n",
    " \n",
    "print(\"The original tuple is : \" ,(test_tup))\n",
    " \n",
    "K = 2\n",
    " \n",
    "res = []\n",
    "test_tup = list(sorted(test_tup))\n",
    " \n",
    "for idx, val in enumerate(test_tup):\n",
    "    if idx < K or idx >= len(test_tup) - K:\n",
    "        res.append(val)\n",
    "res = tuple(res)\n",
    " \n",
    "# printing result\n",
    "print(\"The extracted values : \" ,(res))"
   ]
  },
  {
   "cell_type": "code",
   "execution_count": 3,
   "id": "95657d5b",
   "metadata": {},
   "outputs": [
    {
     "name": "stdout",
     "output_type": "stream",
     "text": [
      "[(1, 1), (2, 8), (5, 125), (6, 216)]\n"
     ]
    }
   ],
   "source": [
    "list1 = [1, 2, 5, 6]\n",
    "  \n",
    "res = [(val, pow(val, 3)) for val in list1]\n",
    "  \n",
    "print(res)"
   ]
  },
  {
   "cell_type": "code",
   "execution_count": 4,
   "id": "3e13be76",
   "metadata": {},
   "outputs": [
    {
     "name": "stdout",
     "output_type": "stream",
     "text": [
      "The original list is :  [5, 6, 7]\n",
      "The container after addition :  [5, 6, 7, 9, 10]\n"
     ]
    }
   ],
   "source": [
    "test_list = [5, 6, 7]\n",
    " \n",
    "print(\"The original list is : \" ,(test_list))\n",
    " \n",
    "test_tup = (9, 10)\n",
    " \n",
    "test_list += test_tup\n",
    " \n",
    "print(\"The container after addition : \" ,(test_list))"
   ]
  },
  {
   "cell_type": "code",
   "execution_count": 5,
   "id": "a172c663",
   "metadata": {},
   "outputs": [
    {
     "name": "stdout",
     "output_type": "stream",
     "text": [
      "The original list is :  [(3, 4), (78, 76), (2, 3), (9, 8), (19, 23)]\n",
      "The nearest tuple to Kth index element is :  (19, 23)\n"
     ]
    }
   ],
   "source": [
    "test_list = [(3, 4), (78, 76), (2, 3), (9, 8), (19, 23)]\n",
    "  \n",
    "print(\"The original list is : \" ,(test_list))\n",
    "  \n",
    "tup = (17, 23)\n",
    "  \n",
    "K = 1\n",
    "  \n",
    "res = min(range(len(test_list)), key = lambda sub: abs(test_list[sub][K - 1] - tup[K - 1]))\n",
    "  \n",
    "print(\"The nearest tuple to Kth index element is : \" ,(test_list[res]))"
   ]
  },
  {
   "cell_type": "code",
   "execution_count": 6,
   "id": "0d7b0a31",
   "metadata": {},
   "outputs": [
    {
     "name": "stdout",
     "output_type": "stream",
     "text": [
      "The original list is :  [(5, 6), (5, 7), (6, 8), (6, 10), (7, 13)]\n",
      "The extracted elements :  [(5, 6, 7), (6, 8, 10), (7, 13)]\n"
     ]
    }
   ],
   "source": [
    "test_list = [(5, 6), (5, 7), (6, 8), (6, 10), (7, 13)]\n",
    "  \n",
    "print(\"The original list is : \" ,(test_list))\n",
    "  \n",
    "res = []\n",
    "for sub in test_list:                                           \n",
    "    if res and res[-1][0] == sub[0]:              \n",
    "        res[-1].extend(sub[1:])                        \n",
    "    else:\n",
    "        res.append([ele for ele in sub])     \n",
    "res = list(map(tuple, res))\n",
    "\n",
    "print(\"The extracted elements : \" ,(res))"
   ]
  },
  {
   "cell_type": "code",
   "execution_count": 7,
   "id": "d012c837",
   "metadata": {},
   "outputs": [
    {
     "name": "stdout",
     "output_type": "stream",
     "text": [
      "The original list is :  [(15, 3), (3, 9), (1, 10), (99, 2)]\n",
      "The extracted digits :  {'3', '0', '2', '5', '9', '1'}\n"
     ]
    }
   ],
   "source": [
    "from itertools import chain\n",
    " \n",
    "test_list = [(15, 3), (3, 9), (1, 10), (99, 2)]\n",
    " \n",
    "print(\"The original list is : \" ,(test_list))\n",
    " \n",
    "temp = map(lambda ele: str(ele), chain.from_iterable(test_list))\n",
    "res = set()\n",
    "for sub in temp:\n",
    "    for ele in sub:\n",
    "        res.add(ele)\n",
    "\n",
    "print(\"The extracted digits : \" ,(res))"
   ]
  },
  {
   "cell_type": "code",
   "execution_count": 8,
   "id": "a3541f10",
   "metadata": {},
   "outputs": [
    {
     "name": "stdout",
     "output_type": "stream",
     "text": [
      "The original tuple 1 :  (4, 5)\n",
      "The original tuple 2 :  (7, 8)\n",
      "The filtered tuple :  [(4, 7), (4, 8), (5, 7), (5, 8), (7, 4), (7, 5), (8, 4), (8, 5)]\n"
     ]
    }
   ],
   "source": [
    "test_tuple1 = (4, 5)\n",
    "test_tuple2 = (7, 8)\n",
    "  \n",
    "print(\"The original tuple 1 : \" ,(test_tuple1))\n",
    "print(\"The original tuple 2 : \" ,(test_tuple2))\n",
    "  \n",
    "res =  [(a, b) for a in test_tuple1 for b in test_tuple2]\n",
    "res = res +  [(a, b) for a in test_tuple2 for b in test_tuple1]\n",
    "  \n",
    "print(\"The filtered tuple : \" ,(res))"
   ]
  },
  {
   "cell_type": "code",
   "execution_count": 9,
   "id": "82bfc5f2",
   "metadata": {},
   "outputs": [
    {
     "name": "stdout",
     "output_type": "stream",
     "text": [
      "The original list :  [(4, 5), (4,), (8, 6, 7), (1,), (3, 4, 6, 7)]\n",
      "Filtered list :  [(4, 5), (8, 6, 7), (3, 4, 6, 7)]\n"
     ]
    }
   ],
   "source": [
    "test_list = [(4, 5), (4, ), (8, 6, 7), (1, ), (3, 4, 6, 7)]\n",
    "  \n",
    "print(\"The original list : \" ,(test_list))\n",
    "   \n",
    "K = 1\n",
    "  \n",
    "res = [ele for ele in test_list if len(ele) != K]\n",
    "  \n",
    "print(\"Filtered list : \" ,(res))"
   ]
  },
  {
   "cell_type": "code",
   "execution_count": 11,
   "id": "28103251",
   "metadata": {},
   "outputs": [
    {
     "name": "stdout",
     "output_type": "stream",
     "text": [
      "[('Stringandlist', 5), ('is', 10), ('a', 15), ('portal', 20), ('for', 24), ('Strings', 28)]\n"
     ]
    }
   ],
   "source": [
    "def Sort_Tuple(tup):\n",
    "     \n",
    "    lst = len(tup)\n",
    "    for i in range(0, lst):\n",
    "         \n",
    "        for j in range(0, lst-i-1):\n",
    "            if (tup[j][1] > tup[j + 1][1]):\n",
    "                temp = tup[j]\n",
    "                tup[j]= tup[j + 1]\n",
    "                tup[j + 1]= temp\n",
    "    return tup\n",
    " \n",
    "tup =[('for', 24), ('is', 10), ('Strings', 28),\n",
    "      ('Stringandlist', 5), ('portal', 20), ('a', 15)]\n",
    "       \n",
    "print(Sort_Tuple(tup))"
   ]
  },
  {
   "cell_type": "code",
   "execution_count": 12,
   "id": "6b18c717",
   "metadata": {},
   "outputs": [
    {
     "name": "stdout",
     "output_type": "stream",
     "text": [
      "The original list is :  [('Sal', 3), ('best', 9), ('CS', 10), ('Strings', 2)]\n",
      "The ordered tuple list :  [('Strings', 2), ('best', 9), ('CS', 10), ('Sal', 3)]\n"
     ]
    }
   ],
   "source": [
    "test_list = [('Sal', 3), ('best', 9), ('CS', 10), ('Strings', 2)]\n",
    "  \n",
    "print(\"The original list is : \" ,(test_list))\n",
    "  \n",
    "ord_list = ['Strings', 'best', 'CS', 'Sal']\n",
    "  \n",
    "temp = dict(test_list)\n",
    "res = [(key, temp[key]) for key in ord_list]\n",
    "  \n",
    "print(\"The ordered tuple list : \" ,(res)) "
   ]
  },
  {
   "cell_type": "code",
   "execution_count": 13,
   "id": "66217fba",
   "metadata": {},
   "outputs": [
    {
     "name": "stdout",
     "output_type": "stream",
     "text": [
      "The original tuple :  ([5, 6], [6, 7, 8, 9], [3])\n",
      "The flattened tuple :  (5, 6, 6, 7, 8, 9, 3)\n"
     ]
    }
   ],
   "source": [
    "test_tuple = ([5, 6], [6, 7, 8, 9], [3])\n",
    "  \n",
    "print(\"The original tuple : \" ,(test_tuple))\n",
    "  \n",
    "res = tuple(sum(test_tuple, []))\n",
    "   \n",
    "print(\"The flattened tuple : \" ,(res))"
   ]
  },
  {
   "cell_type": "code",
   "execution_count": 14,
   "id": "469004aa",
   "metadata": {},
   "outputs": [
    {
     "name": "stdout",
     "output_type": "stream",
     "text": [
      "The original tuple :  ((4, 'Sal', 10), (3, 'is', 8), (6, 'Best', 10))\n",
      "The converted dictionary :  [{'key': 4, 'value': 'Sal', 'id': 10}, {'key': 3, 'value': 'is', 'id': 8}, {'key': 6, 'value': 'Best', 'id': 10}]\n"
     ]
    }
   ],
   "source": [
    "test_tuple = ((4, 'Sal', 10), (3, 'is', 8), (6, 'Best', 10))\n",
    "  \n",
    "print(\"The original tuple : \" ,(test_tuple))\n",
    "  \n",
    "res = [{'key': sub[0], 'value': sub[1], 'id': sub[2]} \n",
    "                               for sub in test_tuple]\n",
    "  \n",
    "print(\"The converted dictionary : \" ,(res))"
   ]
  }
 ],
 "metadata": {
  "kernelspec": {
   "display_name": "Python 3 (ipykernel)",
   "language": "python",
   "name": "python3"
  },
  "language_info": {
   "codemirror_mode": {
    "name": "ipython",
    "version": 3
   },
   "file_extension": ".py",
   "mimetype": "text/x-python",
   "name": "python",
   "nbconvert_exporter": "python",
   "pygments_lexer": "ipython3",
   "version": "3.9.12"
  }
 },
 "nbformat": 4,
 "nbformat_minor": 5
}
