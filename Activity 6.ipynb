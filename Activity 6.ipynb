{
 "cells": [
  {
   "cell_type": "code",
   "execution_count": 1,
   "id": "e00adf87",
   "metadata": {},
   "outputs": [
    {
     "name": "stdout",
     "output_type": "stream",
     "text": [
      "Yes\n"
     ]
    }
   ],
   "source": [
    "def isPalindrome(s):\n",
    "    return s == s[::-1]\n",
    " \n",
    "s = \"malayalam\"\n",
    "ans = isPalindrome(s)\n",
    " \n",
    "if ans:\n",
    "    print(\"Yes\")\n",
    "else:\n",
    "    print(\"No\")"
   ]
  },
  {
   "cell_type": "code",
   "execution_count": 2,
   "id": "cd51ce81",
   "metadata": {},
   "outputs": [
    {
     "name": "stdout",
     "output_type": "stream",
     "text": [
      "The entered string is palindrome\n",
      "The entered string is symmetrical\n"
     ]
    }
   ],
   "source": [
    "def palindrome(a):\n",
    "  \n",
    "    mid = (len(a)-1)//2      \n",
    "    start = 0                \n",
    "    last = len(a)-1\n",
    "    flag = 0\n",
    " \n",
    "    while(start <= mid):\n",
    "  \n",
    "        if (a[start]== a[last]):\n",
    "             \n",
    "            start += 1\n",
    "            last -= 1\n",
    "             \n",
    "        else:\n",
    "            flag = 1\n",
    "            break;\n",
    "             \n",
    "   \n",
    "    if flag == 0:\n",
    "        print(\"The entered string is palindrome\")\n",
    "    else:\n",
    "        print(\"The entered string is not palindrome\")\n",
    "         \n",
    "      \n",
    "\n",
    "def symmetry(a):\n",
    "     \n",
    "    n = len(a)\n",
    "    flag = 0\n",
    "     \n",
    "  \n",
    "    if n%2:\n",
    "        mid = n//2 +1\n",
    "    else:\n",
    "        mid = n//2\n",
    "         \n",
    "    start1 = 0\n",
    "    start2 = mid\n",
    "     \n",
    "    while(start1 < mid and start2 < n):\n",
    "         \n",
    "        if (a[start1]== a[start2]):\n",
    "            start1 = start1 + 1\n",
    "            start2 = start2 + 1\n",
    "        else:\n",
    "            flag = 1\n",
    "            break\n",
    "      \n",
    "    if flag == 0:\n",
    "        print(\"The entered string is symmetrical\")\n",
    "    else:\n",
    "        print(\"The entered string is not symmetrical\")\n",
    "         \n",
    "string = 'amaama'\n",
    "palindrome(string)\n",
    "symmetry(string)"
   ]
  },
  {
   "cell_type": "code",
   "execution_count": 3,
   "id": "2d0b9280",
   "metadata": {},
   "outputs": [
    {
     "name": "stdout",
     "output_type": "stream",
     "text": [
      "code practice quiz geeks\n"
     ]
    }
   ],
   "source": [
    "def rev_sentence(sentence): \n",
    "\n",
    "    words = sentence.split(' ') \n",
    "  \n",
    "    reverse_sentence = ' '.join(reversed(words)) \n",
    "  \n",
    "    return reverse_sentence \n",
    "  \n",
    "if __name__ == \"__main__\": \n",
    "    input = 'geeks quiz practice code'\n",
    "    print (rev_sentence(input))"
   ]
  },
  {
   "cell_type": "code",
   "execution_count": 4,
   "id": "833b27d7",
   "metadata": {},
   "outputs": [
    {
     "name": "stdout",
     "output_type": "stream",
     "text": [
      "The original string is : GeeksForGeeks\n",
      "The string after removal of i'th character : GeksForGeeks\n"
     ]
    }
   ],
   "source": [
    "test_str = \"GeeksForGeeks\"\n",
    "   \n",
    "print (\"The original string is : \" + test_str)\n",
    "  \n",
    "new_str = \"\"\n",
    "  \n",
    "for i in range(len(test_str)):\n",
    "    if i != 2:\n",
    "        new_str = new_str + test_str[i]\n",
    "   \n",
    "print (\"The string after removal of i'th character : \" + new_str)"
   ]
  },
  {
   "cell_type": "code",
   "execution_count": 5,
   "id": "3f03ea48",
   "metadata": {},
   "outputs": [
    {
     "name": "stdout",
     "output_type": "stream",
     "text": [
      "YES\n"
     ]
    }
   ],
   "source": [
    "def check(s2, s1):\n",
    "    if (s2.count(s1) > 0):    \n",
    "        print(\"YES\")\n",
    "    else:\n",
    "        print(\"NO\")\n",
    "             \n",
    "s2 = \"A geek in need is a geek indeed\"\n",
    "s1 = \"geek\"\n",
    "check(s2, s1)"
   ]
  },
  {
   "cell_type": "code",
   "execution_count": 39,
   "id": "41b6b52f",
   "metadata": {},
   "outputs": [
    {
     "name": "stdout",
     "output_type": "stream",
     "text": [
      "The original string is : Sal is best . String are good and Lists like Sal\n",
      "The words frequency :  {'Sal': 2, 'is': 2, 'best': 1, '.': 1, 'String': 1, 'are': 1, 'good': 1, 'and': 1, 'Lists': 1, 'like': 1}\n"
     ]
    }
   ],
   "source": [
    "test_str = 'Sal is best . String are good and Lists like Sal'\n",
    "  \n",
    "print(\"The original string is : \" + (test_str))\n",
    "  \n",
    "res = {key: test_str.count(key) for key in test_str.split()}\n",
    "  \n",
    "print(\"The words frequency : \" ,(res)) "
   ]
  },
  {
   "cell_type": "code",
   "execution_count": 25,
   "id": "01a0a6f5",
   "metadata": {},
   "outputs": [
    {
     "name": "stdout",
     "output_type": "stream",
     "text": [
      "The original string is : stringandlist_is_best\n",
      "The String after changing case : StringandlistIsBest\n"
     ]
    }
   ],
   "source": [
    "test_str = 'stringandlist_is_best'\n",
    "  \n",
    "print(\"The original string is : \" + test_str)\n",
    "  \n",
    "res = test_str.replace(\"_\", \" \").title().replace(\" \", \"\")\n",
    "  \n",
    "print(\"The String after changing case : \" + (res)) "
   ]
  },
  {
   "cell_type": "code",
   "execution_count": 8,
   "id": "9923db04",
   "metadata": {},
   "outputs": [
    {
     "name": "stdout",
     "output_type": "stream",
     "text": [
      "5\n"
     ]
    }
   ],
   "source": [
    "def findLen(str):\n",
    "    counter = 0    \n",
    "    for i in str:\n",
    "        counter += 1\n",
    "    return counter\n",
    "  \n",
    "  \n",
    "str = \"geeks\"\n",
    "print(findLen(str))"
   ]
  },
  {
   "cell_type": "code",
   "execution_count": 9,
   "id": "deb3844c",
   "metadata": {},
   "outputs": [
    {
     "name": "stdout",
     "output_type": "stream",
     "text": [
      "am\n",
      "muskan\n"
     ]
    }
   ],
   "source": [
    "def printWords(s):\n",
    "      \n",
    "    s = s.split(' ') \n",
    "      \n",
    "    for word in s: \n",
    "        \n",
    "        if len(word)%2==0:\n",
    "            print(word) \n",
    "  \n",
    "s = \"i am muskan\" \n",
    "printWords(s) "
   ]
  },
  {
   "cell_type": "code",
   "execution_count": 10,
   "id": "b79643fb",
   "metadata": {},
   "outputs": [
    {
     "name": "stdout",
     "output_type": "stream",
     "text": [
      "accepted\n"
     ]
    }
   ],
   "source": [
    "def check(string):\n",
    "    string = string.replace(' ', '')\n",
    "    string = string.lower()\n",
    "    vowel = [string.count('a'), string.count('e'), string.count(\n",
    "        'i'), string.count('o'), string.count('u')]\n",
    " \n",
    "    if vowel.count(0) > 0:\n",
    "        return('not accepted')\n",
    "    else:\n",
    "        return('accepted')\n",
    " \n",
    " \n",
    "if __name__ == \"__main__\":\n",
    " \n",
    "    string = \"SEEquoiaL\"\n",
    " \n",
    "    print(check(string))"
   ]
  },
  {
   "cell_type": "code",
   "execution_count": 13,
   "id": "c351e7a6",
   "metadata": {},
   "outputs": [
    {
     "name": "stdout",
     "output_type": "stream",
     "text": [
      "No. of matching characters are :  5\n"
     ]
    }
   ],
   "source": [
    "def count(str1, str2): \n",
    "    c, j = 0, 0\n",
    "      \n",
    "    for i in str1:    \n",
    "          \n",
    "    \n",
    "        if str2.find(i)>= 0 and j == str1.find(i): \n",
    "            c += 1\n",
    "        j += 1\n",
    "    print ('No. of matching characters are : ', c)\n",
    "  \n",
    "\n",
    "def main(): \n",
    "    str1 ='aabcddekll12@' \n",
    "    str2 ='bb2211@55k' \n",
    "    count(str1, str2) \n",
    "  \n",
    "if __name__==\"__main__\":\n",
    "    main()\n",
    "     \n",
    "     "
   ]
  },
  {
   "cell_type": "code",
   "execution_count": 23,
   "id": "51db2fbe",
   "metadata": {},
   "outputs": [
    {
     "name": "stdout",
     "output_type": "stream",
     "text": [
      "Without Order: nalrgidst\n",
      "With Order: s\n",
      "With Order: st\n",
      "With Order: str\n",
      "With Order: stri\n",
      "With Order: strin\n",
      "With Order: string\n",
      "With Order: string\n",
      "With Order: stringa\n",
      "With Order: stringa\n",
      "With Order: stringad\n",
      "With Order: stringadl\n",
      "With Order: stringadl\n",
      "With Order: stringadl\n",
      "With Order: stringadl\n",
      "With Order: stringadl\n"
     ]
    }
   ],
   "source": [
    "def removeDuplicate(str):\n",
    "    s=set(str)\n",
    "    s=\"\".join(s)\n",
    "    print(\"Without Order:\",s)\n",
    "    t=\"\"\n",
    "    for i in str:\n",
    "        if(i in t):\n",
    "            pass\n",
    "        else:\n",
    "            t=t+i\n",
    "        print(\"With Order:\",t)\n",
    "      \n",
    "str=\"stringsandlists\"\n",
    "removeDuplicate(str)"
   ]
  },
  {
   "cell_type": "code",
   "execution_count": 18,
   "id": "beb1bff3",
   "metadata": {},
   "outputs": [
    {
     "name": "stdout",
     "output_type": "stream",
     "text": [
      "String is not accepted.\n"
     ]
    }
   ],
   "source": [
    "import re\n",
    " \n",
    "def run(string):\n",
    " \n",
    "    regex = re.compile('[@_!#$%^&*()<>?/\\|}{~:]')\n",
    "     \n",
    "      \n",
    "    if(regex.search(string) == None):\n",
    "        print(\"String is accepted\")\n",
    "         \n",
    "    else:\n",
    "        print(\"String is not accepted.\")\n",
    "     \n",
    " \n",
    "\n",
    "if __name__ == '__main__' :\n",
    "     \n",
    "    string = \"String$For$List\"\n",
    "     \n",
    "    run(string)\n",
    "  \n"
   ]
  },
  {
   "cell_type": "code",
   "execution_count": 22,
   "id": "29a89d63",
   "metadata": {},
   "outputs": [
    {
     "name": "stdout",
     "output_type": "stream",
     "text": [
      "KiJG\n",
      "4zbQ\n",
      "Z005\n",
      "Rswl\n",
      "1Lu1\n",
      "NyJ,\n",
      ";QN5\n",
      "fLd2\n",
      "xGaZ\n",
      "!,xQ\n",
      "Xd4z\n",
      "p4:y\n",
      "0ucH\n",
      "ePum\n",
      "pL;k\n",
      "njvk\n",
      "aZZk\n",
      "H6bk\n",
      "p,mk\n",
      "zFzk\n",
      " dUk\n",
      "Lbuk\n",
      "Ukmk\n",
      "DZjk\n",
      "riAk\n",
      "B1Zk\n",
      "4Uwk\n",
      "EtRk\n",
      "LVRk\n",
      "9L.k\n",
      "CcRk\n",
      "x6lk\n",
      "LZfk\n",
      "5.Gk\n",
      ":fMk\n",
      "SaZk\n",
      "ri k\n",
      "01Ck\n",
      "6Huk\n",
      "fj5k\n",
      "cE?k\n",
      "BVNk\n",
      "Jdjk\n",
      "aB;k\n",
      "b54k\n",
      "?Kak\n",
      "KlTk\n",
      "R6qk\n",
      "EjIk\n",
      "6mCk\n",
      "!  k\n",
      "Ng4k\n",
      "LAZk\n",
      "wiVk\n",
      "rDsk\n",
      "C,!k\n",
      "IsVk\n",
      ";Zqk\n",
      "Zark\n",
      " JNk\n",
      "xPPk\n",
      "B:vk\n",
      "V2uk\n",
      "Rwpk\n",
      "OfGk\n",
      "rxWk\n",
      "vaZk\n",
      "rRok\n",
      "s1.k\n",
      "iKek\n",
      "Boek\n",
      "OYek\n",
      "jTek\n",
      "ANek\n",
      "Ucek\n",
      "04ek\n",
      "u ek\n",
      "l0ek\n",
      "tnek\n",
      "V1ek\n",
      "Gjek\n",
      "8qek\n",
      "hgek\n",
      " Yek\n",
      "A:ek\n",
      "Jmek\n",
      "!Uek\n",
      "aqek\n",
      "8Gek\n",
      "aZek\n",
      "5Xek\n",
      "1:ek\n",
      "Xcek\n",
      "LPek\n",
      "jcek\n",
      "!jek\n",
      "m3ek\n",
      "l2ek\n",
      "dwek\n",
      "!Wek\n",
      "pQek\n",
      "zGek\n",
      "Qtek\n",
      "qmek\n",
      "ACek\n",
      "nwek\n",
      "glek\n",
      "gsek\n",
      "g7ek\n",
      "gZek\n",
      "ggek\n",
      "gQek\n",
      "gBek\n",
      "gwek\n",
      "gxek\n",
      "guek\n",
      "guek\n",
      "gaek\n",
      "gsek\n",
      "gXek\n",
      "gKek\n",
      "gCek\n",
      "gpek\n",
      "gqek\n",
      "gOek\n",
      "gHek\n",
      "g2ek\n",
      "gPek\n",
      "gIek\n",
      "g3ek\n",
      "g1ek\n",
      "gaek\n",
      "gsek\n",
      "gYek\n",
      "g5ek\n",
      "gAek\n",
      "g3ek\n",
      "gCek\n",
      "goek\n",
      "g.ek\n",
      "gOek\n",
      "gYek\n",
      "gtek\n",
      "ggek\n",
      "gfek\n",
      "g!ek\n",
      "gwek\n",
      "g:ek\n",
      "glek\n",
      "gUek\n",
      "gGek\n",
      "g2ek\n",
      "gNek\n",
      "gbek\n",
      "gaek\n",
      "g5ek\n",
      "gzek\n",
      "gSek\n",
      "gQek\n",
      "gvek\n",
      "gdek\n",
      "g ek\n",
      "guek\n",
      "guek\n",
      "g9ek\n",
      "gHek\n",
      "gCek\n",
      "gXek\n",
      "gGek\n",
      "gZek\n",
      "gGek\n",
      "g5ek\n",
      "gvek\n",
      "gSek\n",
      "g,ek\n",
      "gZek\n",
      "gkek\n",
      "gFek\n",
      "g8ek\n",
      "gOek\n",
      "g8ek\n",
      "gkek\n",
      "glek\n",
      "gZek\n",
      "gMek\n",
      "grek\n",
      "gNek\n",
      "gcek\n",
      "gWek\n",
      "gsek\n",
      "g9ek\n",
      "gWek\n",
      "ghek\n",
      "grek\n",
      "g2ek\n",
      "g5ek\n",
      "g0ek\n",
      "gNek\n",
      "gsek\n",
      "gDek\n",
      "gtek\n",
      "gEek\n",
      "grek\n",
      "gmek\n",
      "gEek\n",
      "gwek\n",
      "gMek\n",
      "gyek\n",
      "g?ek\n",
      "gnek\n",
      "g7ek\n",
      "g6ek\n",
      "gVek\n",
      "gQek\n",
      "ghek\n",
      "gDek\n",
      "gwek\n",
      "gdek\n",
      "gKek\n",
      "gSek\n",
      "gPek\n",
      "g ek\n",
      "gpek\n",
      "gMek\n",
      "gNek\n",
      "gwek\n",
      "g?ek\n",
      "gnek\n",
      "gVek\n",
      "g?ek\n",
      "gyek\n",
      "gJek\n",
      "gNek\n",
      "gXek\n",
      "gZek\n",
      "gsek\n",
      "gqek\n",
      "g!ek\n",
      "gyek\n",
      "gBek\n",
      "giek\n",
      "gVek\n",
      "grek\n",
      "g4ek\n",
      "gkek\n",
      "gLek\n",
      "g;ek\n",
      "gZek\n",
      "grek\n",
      "gXek\n",
      "gQek\n",
      "g?ek\n",
      "g.ek\n",
      "g!ek\n",
      "gpek\n",
      "g8ek\n",
      "g.ek\n",
      "gaek\n",
      "g3ek\n",
      "gkek\n",
      "g,ek\n",
      "gtek\n",
      "gzek\n",
      "g4ek\n",
      "gnek\n",
      "g9ek\n",
      "gOek\n",
      "gOek\n",
      "gVek\n",
      "glek\n",
      "g,ek\n",
      "g?ek\n",
      "gCek\n",
      "gzek\n",
      "g:ek\n",
      "ggek\n",
      "gdek\n",
      "gWek\n",
      "gJek\n",
      "gVek\n",
      "gMek\n",
      "gOek\n",
      "gmek\n",
      "giek\n",
      "geek\n"
     ]
    },
    {
     "ename": "TypeError",
     "evalue": "'str' object is not callable",
     "output_type": "error",
     "traceback": [
      "\u001b[1;31m---------------------------------------------------------------------------\u001b[0m",
      "\u001b[1;31mTypeError\u001b[0m                                 Traceback (most recent call last)",
      "Input \u001b[1;32mIn [22]\u001b[0m, in \u001b[0;36m<cell line: 35>\u001b[1;34m()\u001b[0m\n\u001b[0;32m     32\u001b[0m     attemptThis \u001b[38;5;241m=\u001b[39m attemptNext\n\u001b[0;32m     33\u001b[0m     time\u001b[38;5;241m.\u001b[39msleep(\u001b[38;5;241m0.1\u001b[39m)\n\u001b[0;32m     35\u001b[0m \u001b[38;5;28mprint\u001b[39m(\u001b[38;5;124m\"\u001b[39m\u001b[38;5;124mTarget matched after \u001b[39m\u001b[38;5;124m\"\u001b[39m \u001b[38;5;241m+\u001b[39m\n\u001b[1;32m---> 36\u001b[0m       \u001b[38;5;28;43mstr\u001b[39;49m\u001b[43m(\u001b[49m\u001b[43miteration\u001b[49m\u001b[43m)\u001b[49m \u001b[38;5;241m+\u001b[39m \u001b[38;5;124m\"\u001b[39m\u001b[38;5;124m iterations\u001b[39m\u001b[38;5;124m\"\u001b[39m)\n",
      "\u001b[1;31mTypeError\u001b[0m: 'str' object is not callable"
     ]
    }
   ],
   "source": [
    "import string\n",
    "import random\n",
    "import time\n",
    "\n",
    "\n",
    "possibleCharacters = string.ascii_lowercase + string.digits + string.ascii_uppercase + ' ., !?;:'\n",
    "\n",
    "t = \"geek\"\n",
    "  \n",
    "  \n",
    "attemptThis = ''.join(random.choice(possibleCharacters)\n",
    "                                for i in range(len(t)))\n",
    "attemptNext = ''\n",
    "  \n",
    "completed = False\n",
    "iteration = 0\n",
    "  \n",
    "while completed == False:\n",
    "    print(attemptThis)\n",
    "      \n",
    "    attemptNext = ''\n",
    "    completed = True\n",
    "      \n",
    "    for i in range(len(t)):\n",
    "        if attemptThis[i] != t[i]:\n",
    "            completed = False\n",
    "            attemptNext += random.choice(possibleCharacters)\n",
    "        else:\n",
    "            attemptNext += t[i]\n",
    "               \n",
    "    iteration += 1\n",
    "    attemptThis = attemptNext\n",
    "    time.sleep(0.1)\n",
    "  \n",
    "print(\"Target matched after \" +\n",
    "      str(iteration) + \" iterations\")"
   ]
  },
  {
   "cell_type": "code",
   "execution_count": 35,
   "id": "d473c216",
   "metadata": {},
   "outputs": [
    {
     "name": "stdout",
     "output_type": "stream",
     "text": [
      "['strings', 'lists']\n"
     ]
    }
   ],
   "source": [
    "def string_k(k, str):\n",
    "     \n",
    "    string = []\n",
    "     \n",
    "    text = str.split(\" \")\n",
    "     \n",
    "    for x in text:\n",
    "         \n",
    "        if len(x) > k:\n",
    "    \n",
    "            \n",
    "            string.append(x)\n",
    "             \n",
    "     \n",
    "    return string\n",
    " \n",
    "    \n",
    "k = 3\n",
    "str =\"strings and lists\"\n",
    "print(string_k(k, str))"
   ]
  },
  {
   "cell_type": "code",
   "execution_count": 37,
   "id": "ee98dc41",
   "metadata": {},
   "outputs": [
    {
     "name": "stdout",
     "output_type": "stream",
     "text": [
      "The original string is : StringandList\n",
      "The minimum of all characters in StringandList is :  S\n"
     ]
    }
   ],
   "source": [
    "test_str = \"StringandList\"\n",
    "  \n",
    "print (\"The original string is : \" + test_str)\n",
    "  \n",
    "all_freq = {}\n",
    "for i in test_str:\n",
    "    if i in all_freq:\n",
    "        all_freq[i] += 1\n",
    "    else:\n",
    "        all_freq[i] = 1\n",
    "res = min(all_freq, key = all_freq.get) \n",
    "   \n",
    "print (\"The minimum of all characters in StringandList is : \" ,(res))"
   ]
  },
  {
   "cell_type": "code",
   "execution_count": 40,
   "id": "76b9fa22",
   "metadata": {},
   "outputs": [
    {
     "name": "stdout",
     "output_type": "stream",
     "text": [
      "The original string is : StringandList\n",
      "The maximum of all characters in StringandList is :  t\n"
     ]
    }
   ],
   "source": [
    "test_str = \"StringandList\"\n",
    "  \n",
    "print (\"The original string is : \" + test_str)\n",
    "  \n",
    "all_freq = {}\n",
    "for i in test_str:\n",
    "    if i in all_freq:\n",
    "        all_freq[i] += 1\n",
    "    else:\n",
    "        all_freq[i] = 1\n",
    "res = max(all_freq, key = all_freq.get) \n",
    "  \n",
    "print (\"The maximum of all characters in StringandList is : \" ,(res))"
   ]
  },
  {
   "cell_type": "code",
   "execution_count": 41,
   "id": "f0f3c012",
   "metadata": {},
   "outputs": [
    {
     "name": "stdout",
     "output_type": "stream",
     "text": [
      "strinandlist\n"
     ]
    }
   ],
   "source": [
    "def remove(string, i): \n",
    "  \n",
    "    for j in range(len(string)):\n",
    "        if j == i:\n",
    "            string = string.replace(string[i], \"\", 1)\n",
    "    return string\n",
    "    \n",
    "if __name__ == '__main__':\n",
    "      \n",
    "    string = \"stringandlist\"\n",
    "      \n",
    "    i = 5\n",
    "    \n",
    "    print(remove(string, i))"
   ]
  },
  {
   "cell_type": "code",
   "execution_count": 42,
   "id": "fa174ac0",
   "metadata": {},
   "outputs": [
    {
     "name": "stdout",
     "output_type": "stream",
     "text": [
      "['Strings', 'and', 'Lists']\n",
      "Strings-and-Lists\n"
     ]
    }
   ],
   "source": [
    "def split_string(string):\n",
    "  \n",
    "    list_string = string.split(' ')\n",
    "      \n",
    "    return list_string\n",
    "  \n",
    "def join_string(list_string):\n",
    "  \n",
    "    string = '-'.join(list_string)\n",
    "      \n",
    "    return string\n",
    "  \n",
    "if __name__ == '__main__':\n",
    "    string = 'Strings and Lists'\n",
    "      \n",
    "    list_string = split_string(string)\n",
    "    print(list_string)\n",
    "  \n",
    "    new_string = join_string(list_string)\n",
    "    print(new_string)"
   ]
  },
  {
   "cell_type": "code",
   "execution_count": 43,
   "id": "78e9f8ba",
   "metadata": {},
   "outputs": [
    {
     "name": "stdout",
     "output_type": "stream",
     "text": [
      "No\n"
     ]
    }
   ],
   "source": [
    "def check2(string) :\n",
    " \n",
    "    t = '01'\n",
    " \n",
    "    count = 0\n",
    " \n",
    "    for char in string :\n",
    " \n",
    "        \n",
    "        if char not in t :\n",
    "            count = 1\n",
    "            break\n",
    "        else :\n",
    "            pass\n",
    "         \n",
    "  \n",
    "    if count :\n",
    "        print(\"No\")\n",
    "    else :\n",
    "        print(\"Yes\")\n",
    " \n",
    " \n",
    "if __name__ == \"__main__\" :\n",
    " \n",
    "    string = \"001021010001010\"\n",
    " \n",
    "    check2(string)"
   ]
  }
 ],
 "metadata": {
  "kernelspec": {
   "display_name": "Python 3 (ipykernel)",
   "language": "python",
   "name": "python3"
  },
  "language_info": {
   "codemirror_mode": {
    "name": "ipython",
    "version": 3
   },
   "file_extension": ".py",
   "mimetype": "text/x-python",
   "name": "python",
   "nbconvert_exporter": "python",
   "pygments_lexer": "ipython3",
   "version": "3.9.12"
  }
 },
 "nbformat": 4,
 "nbformat_minor": 5
}
