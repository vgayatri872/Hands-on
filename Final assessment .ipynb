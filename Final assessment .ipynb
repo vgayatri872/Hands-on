{
 "cells": [
  {
   "cell_type": "code",
   "execution_count": 1,
   "id": "794762b0",
   "metadata": {},
   "outputs": [
    {
     "name": "stdout",
     "output_type": "stream",
     "text": [
      "Enter the base: 3\n",
      "Enter the exponent: 4\n",
      "Answer = 81\n"
     ]
    }
   ],
   "source": [
    "base = int(input(\"Enter the base: \"))\n",
    "exponent = int(input(\"Enter the exponent: \"))\n",
    "\n",
    "result = 1\n",
    "\n",
    "while exponent != 0:\n",
    "    result *= base\n",
    "    exponent-=1\n",
    "\n",
    "print(\"Answer = \" + str(result))"
   ]
  },
  {
   "cell_type": "code",
   "execution_count": 2,
   "id": "6eb3aa04",
   "metadata": {},
   "outputs": [
    {
     "name": "stdout",
     "output_type": "stream",
     "text": [
      "Enter the first number: 54\n",
      "Enter the second number: 14\n",
      "The L.C.M. is 378\n"
     ]
    }
   ],
   "source": [
    "def compute_lcm(x, y):\n",
    "\n",
    "   if x > y:\n",
    "       greater = x\n",
    "   else:\n",
    "       greater = y\n",
    "\n",
    "   while(True):\n",
    "       if((greater % x == 0) and (greater % y == 0)):\n",
    "           lcm = greater\n",
    "           break\n",
    "       greater += 1\n",
    "\n",
    "   return lcm\n",
    "\n",
    "num1 = int(input(\"Enter the first number: \"))\n",
    "num2 = int(input(\"Enter the second number: \"))\n",
    "\n",
    "print(\"The L.C.M. is\", compute_lcm(num1, num2))"
   ]
  },
  {
   "cell_type": "code",
   "execution_count": 3,
   "id": "455cc808",
   "metadata": {},
   "outputs": [
    {
     "name": "stdout",
     "output_type": "stream",
     "text": [
      "True\n"
     ]
    }
   ],
   "source": [
    "def isMonotonic(A):\n",
    "  \n",
    "    return (all(A[i] <= A[i + 1] for i in range(len(A) - 1)) or\n",
    "            all(A[i] >= A[i + 1] for i in range(len(A) - 1)))\n",
    "\n",
    "A = [6, 5, 4, 4]\n",
    "  \n",
    "\n",
    "print(isMonotonic(A))\n",
    "  "
   ]
  },
  {
   "cell_type": "code",
   "execution_count": 4,
   "id": "b593f5ba",
   "metadata": {},
   "outputs": [
    {
     "name": "stdout",
     "output_type": "stream",
     "text": [
      "Enter the start of range: -14\n",
      "Enter the end of range: 4\n",
      "-14 -13 -12 -11 -10 -9 -8 -7 -6 -5 -4 -3 -2 -1 "
     ]
    }
   ],
   "source": [
    "start = int(input(\"Enter the start of range: \"))\n",
    "end = int(input(\"Enter the end of range: \"))\n",
    " \n",
    "for num in range(start, end + 1):\n",
    "     \n",
    "    if num < 0:\n",
    "        print(num, end = \" \")"
   ]
  },
  {
   "cell_type": "code",
   "execution_count": 5,
   "id": "06b5a4f6",
   "metadata": {},
   "outputs": [
    {
     "name": "stdout",
     "output_type": "stream",
     "text": [
      "['Strings', 'and', 'Lists']\n",
      "Strings-and-Lists\n"
     ]
    }
   ],
   "source": [
    "s = 'Strings and Lists'\n",
    "\n",
    "print(s.split(\" \"))\n",
    "print(\"-\".join(s.split()))"
   ]
  },
  {
   "cell_type": "code",
   "execution_count": 6,
   "id": "fd31b7bb",
   "metadata": {},
   "outputs": [
    {
     "name": "stdout",
     "output_type": "stream",
     "text": [
      "Yes\n"
     ]
    }
   ],
   "source": [
    "def check(string) :\n",
    "\n",
    "    p = set(string)\n",
    " \n",
    "    s = {'0', '1'}\n",
    " \n",
    "  \n",
    "    if s == p or p == {'0'} or p == {'1'}:\n",
    "        print(\"Yes\")\n",
    "    else :\n",
    "        print(\"No\")\n",
    " \n",
    " \n",
    "if __name__ == \"__main__\" :\n",
    " \n",
    "    string = \"101010000111\"\n",
    "\n",
    "    check(string)"
   ]
  },
  {
   "cell_type": "code",
   "execution_count": 7,
   "id": "d6cca5d8",
   "metadata": {},
   "outputs": [
    {
     "name": "stdout",
     "output_type": "stream",
     "text": [
      "17:18:10\n"
     ]
    }
   ],
   "source": [
    "def convert24(str1):\n",
    "      \n",
    "    if str1[-2:] == \"AM\" and str1[:2] == \"12\":\n",
    "        return \"00\" + str1[2:-2]\n",
    "          \n",
    "    elif str1[-2:] == \"AM\":\n",
    "        return str1[:-2]\n",
    "       \n",
    "    elif str1[-2:] == \"PM\" and str1[:2] == \"12\":\n",
    "        return str1[:-2]\n",
    "          \n",
    "    else:\n",
    "          \n",
    "        return str(int(str1[:2]) + 12) + str1[2:8]\n",
    "        \n",
    "print(convert24(\"05:18:10 PM\"))"
   ]
  },
  {
   "cell_type": "code",
   "execution_count": 8,
   "id": "95540ce3",
   "metadata": {},
   "outputs": [
    {
     "name": "stdout",
     "output_type": "stream",
     "text": [
      "2 : 25\n",
      "3 : 31\n",
      "Both are same times\n"
     ]
    }
   ],
   "source": [
    "def difference(h1, m1, h2, m2):\n",
    "      \n",
    "    t1 = h1 * 60 + m1\n",
    "       \n",
    "    t2 = h2 * 60 + m2\n",
    "      \n",
    "    if (t1 == t2): \n",
    "        print(\"Both are same times\")\n",
    "        return \n",
    "    else:\n",
    "          \n",
    "        diff = t2-t1\n",
    "          \n",
    "    h = (int(diff / 60)) % 24\n",
    "      \n",
    "    m = diff % 60\n",
    "  \n",
    "    print(h, \":\", m)\n",
    "  \n",
    "if __name__ == \"__main__\":\n",
    "      \n",
    "    difference(7, 20, 9, 45)\n",
    "    difference(15, 23, 18, 54)\n",
    "    difference(16, 20, 16, 20)"
   ]
  }
 ],
 "metadata": {
  "kernelspec": {
   "display_name": "Python 3 (ipykernel)",
   "language": "python",
   "name": "python3"
  },
  "language_info": {
   "codemirror_mode": {
    "name": "ipython",
    "version": 3
   },
   "file_extension": ".py",
   "mimetype": "text/x-python",
   "name": "python",
   "nbconvert_exporter": "python",
   "pygments_lexer": "ipython3",
   "version": "3.9.12"
  }
 },
 "nbformat": 4,
 "nbformat_minor": 5
}
